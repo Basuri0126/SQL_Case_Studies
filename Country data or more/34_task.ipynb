{
  "nbformat": 4,
  "nbformat_minor": 0,
  "metadata": {
    "colab": {
      "provenance": []
    },
    "kernelspec": {
      "name": "python3",
      "display_name": "Python 3"
    },
    "language_info": {
      "name": "python"
    }
  },
  "cells": [
    {
      "cell_type": "markdown",
      "source": [
        "## Freedom Ranking for Different Countries\n",
        "\n",
        "You can get the dataset from [here](https://drive.google.com/drive/folders/1wr0J571rlfexEJ4-de6_tz1QvU-cJ0df?usp=share_link).\n",
        "\n",
        "Some feature details of the dataset:\n",
        "\n",
        "| Feature | Description |\n",
        "| :--: | :-- |\n",
        "| A | Electoral Process |\n",
        "| B | Political Pluralism and Participation |\n",
        "| C | Functioning of Government |\n",
        "| D | Freedom of Expression and Belief |\n",
        "| E | Associational and Organizational Rights |\n",
        "| F | Rule of Law |\n",
        "| G | Personal Autonomy and Individual Rights |\n",
        "| CL | Civil Liberties Scores |\n",
        "| Status | F=Free, PF=Partly Free, NF=Not Free |\n",
        "\n",
        "\n",
        "###`Q-1` Find out top 10 countries' which have maximum A and D values.\n",
        "\n",
        "\n",
        "###`Q-2` Find out highest CL value for 2020 for every region. Also sort the result in descending order. Also display the CL values in descending order."
      ],
      "metadata": {
        "id": "kbYXPYQ4pVyp"
      }
    },
    {
      "cell_type": "markdown",
      "source": [
        "1.\n",
        "- SELECT A.Country,A, D FROM (SELECT Country, A FROM freedom.country_ab\n",
        "- ORDER BY A DESC LIMIT 10) A\n",
        "- LEFT JOIN\n",
        "- (SELECT Country, D FROM freedom.country_cd\n",
        "- ORDER BY D DESC LIMIT 10) D\n",
        "- ON A.Country = D.Country\n",
        "- UNION\n",
        "- SELECT D.Country, A, D FROM (SELECT Country, A FROM freedom.country_ab\n",
        "- ORDER BY A DESC LIMIT 10) A\n",
        "- RIGHT JOIN\n",
        "- (SELECT Country, D FROM freedom.country_cd\n",
        "- ORDER BY D DESC LIMIT 10) D\n",
        "- ON A.Country = D.Country\n",
        "- ORDER BY Country"
      ],
      "metadata": {
        "id": "-s_pPg_1pWyQ"
      }
    },
    {
      "cell_type": "markdown",
      "source": [
        "2.\n",
        "- SELECT t2.Region, MAX(t1.CL) AS 'cl' FROM freedom.country_cl t1\n",
        "- JOIN freedom.country_ab  t2\n",
        "- ON t1.Country = t2.Country\n",
        "- WHERE t2.Edition = 2020\n",
        "- GROUP BY region\n",
        "- ORDER BY cl DESC"
      ],
      "metadata": {
        "id": "SlKxfWLnkqIO"
      }
    },
    {
      "cell_type": "markdown",
      "source": [
        "## Dataset\n",
        "Data Link-> https://drive.google.com/drive/folders/1bGgNTDy5L_IodNcGHdB_SNCkUI5MUjmY?usp=share_link\n",
        "Four Tables:\n",
        "* Customer\n",
        "* Employee\n",
        "* Sales\n",
        "* Products\n",
        "\n",
        "###`Q-3` Find top-5 most sold products.\n",
        "\n",
        "### `Q-4:` Find sales man who sold most no of products.\n",
        "\n",
        "### `Q-5:` Sales man name who has most no of unique customer.\n",
        "\n",
        "###`Q-6:` Sales man who has generated most revenue. Show top 5.\n",
        "\n",
        "###`Q-7:` List all customers who have made more than 10 purchases.\n",
        "\n",
        "### `Q-8` : List all salespeople who have made sales to more than 5 customers.\n",
        "\n",
        "### `Q-9:` List all pairs of customers who have made purchases with the same salesperson.\n",
        "\n"
      ],
      "metadata": {
        "id": "62JBrjrmpcn-"
      }
    },
    {
      "cell_type": "code",
      "source": [],
      "metadata": {
        "id": "VA90jn6Zpznc"
      },
      "execution_count": null,
      "outputs": []
    },
    {
      "cell_type": "markdown",
      "source": [
        "3.\n",
        "- SELECT t1.Name, t2.Quantity AS 'Total_Quantity' FROM saledb.products t1\n",
        "- JOIN saledb.sales1 t2\n",
        "- ON t1.ProductID = t2.ProductID\n",
        "- GROUP BY t1.ProductID\n",
        "- ORDER BY t2.Quantity DESC LIMIT 5"
      ],
      "metadata": {
        "id": "VfkDaTLTJQpN"
      }
    },
    {
      "cell_type": "code",
      "source": [],
      "metadata": {
        "id": "Y_wNMjY_JWJ-"
      },
      "execution_count": null,
      "outputs": []
    },
    {
      "cell_type": "markdown",
      "source": [
        "4.\n",
        "- SELECT t2.SalesPersonID,t1.FirstName, t1.LastName, SUM(t2.Quantity) AS\n",
        "-  'total_quantity'\n",
        "- FROM saledb.employees t1\n",
        "- JOIN saledb.sales1 t2\n",
        "- ON t1.EmployeeID= t2.SalesPersonID\n",
        "- GROUP BY t1.FirstName, t1.LastName\n",
        "- ORDER BY total_quantity DESC LIMIT 5"
      ],
      "metadata": {
        "id": "YWscoW-hJWxu"
      }
    },
    {
      "cell_type": "code",
      "source": [],
      "metadata": {
        "id": "x8Fuj8IIPqwh"
      },
      "execution_count": null,
      "outputs": []
    },
    {
      "cell_type": "markdown",
      "source": [
        "5.\n",
        "- SELECT t2.SalesPersonID,t1.FirstName, t1.LastName, COUNT(DISTINCT t2. CustomerID) AS 'customer'\n",
        "- FROM saledb.employees t1\n",
        "- JOIN saledb.sales1 t2\n",
        "- ON t1.EmployeeID= t2.SalesPersonID\n",
        "- GROUP BY t1.FirstName, t1.LastName\n",
        "- ORDER BY customer DESC LIMIT 5"
      ],
      "metadata": {
        "id": "7u-JpwpsWPBt"
      }
    },
    {
      "cell_type": "code",
      "source": [],
      "metadata": {
        "id": "E1jhFYInWdxB"
      },
      "execution_count": null,
      "outputs": []
    },
    {
      "cell_type": "markdown",
      "source": [
        "6.\n",
        "- SELECT t2.SalesPersonID, t3.FirstName, t3.LastName, ROUND(SUM(t1.Price * t2.Quantity),2) AS 'total_price'\n",
        "- FROM saledb.sales1 t2\n",
        "- JOIN saledb.products t1\n",
        "- ON t1.ProductID = t2.ProductID\n",
        "- JOIN saledb.employees t3\n",
        "- ON t3.EmployeeID = t2.SalesPersonID\n",
        "- Group BY t2.SalesPersonID\n",
        "- ORDER BY total_price DESC LIMIT 5"
      ],
      "metadata": {
        "id": "Z7ZksQvYazj9"
      }
    },
    {
      "cell_type": "code",
      "source": [],
      "metadata": {
        "id": "ZxjB_F5vbMXi"
      },
      "execution_count": null,
      "outputs": []
    },
    {
      "cell_type": "markdown",
      "source": [
        "7.\n",
        "- SELECT t2.CustomerID , t2.FirstName, t2.LastName, COUNT(*) AS 'total_pur'\n",
        "- FROM saledb.sales1 t1\n",
        "- JOIN saledb.customers t2\n",
        "- ON t1.CustomerID = t2.CustomerID\n",
        "- GROUP BY t2.CustomerID\n",
        "- HAVING total_pur > 10\n",
        "- ORDER BY total_pur DESC"
      ],
      "metadata": {
        "id": "I4-EKuJ4azqy"
      }
    },
    {
      "cell_type": "code",
      "source": [],
      "metadata": {
        "id": "0PCWF_44a7Lo"
      },
      "execution_count": null,
      "outputs": []
    },
    {
      "cell_type": "markdown",
      "source": [
        "8.\n",
        "- SELECT t1.SalesPersonID , t3.FirstName, t3.LastName, COUNT(DISTINCT t1.CustomerID) AS 'total_cus'\n",
        "- FROM saledb.sales1 t1\n",
        "- JOIN saledb.employees t3\n",
        "- ON t3.EmployeeID = t1.SalesPersonID\n",
        "- GROUP BY t1.SalesPersonID\n",
        "- HAVING total_cus > 5\n",
        "- ORDER BY total_cus DESC"
      ],
      "metadata": {
        "id": "QN061VDcdGvX"
      }
    },
    {
      "cell_type": "code",
      "source": [],
      "metadata": {
        "id": "oxVk_6NbdRlX"
      },
      "execution_count": null,
      "outputs": []
    },
    {
      "cell_type": "markdown",
      "source": [
        "9.\n",
        "- SELECT * FROM\n",
        "- (SELECT * FROM (SELECT DISTINCT t1.CustomerID AS 'customer1',\n",
        "- t2.CustomerID AS 'customer2',\n",
        "- t1.SalesPersonID\n",
        "- FROM saledb.sales1 t1\n",
        "- JOIN saledb.sales1 t2\n",
        "- ON t1.SalesPersonID = t2.SalesPersonID\n",
        "- AND t1.CustomerID != t2.CustomerID) t3\n",
        "- JOIN saledb.customers t4\n",
        "- ON t3.customer1 = t4.CustomerID) t5\n",
        "- JOIN saledb.employees t6\n",
        "- ON t5.SalesPersonID = t6.EmployeeID"
      ],
      "metadata": {
        "id": "RasRmcOedSPr"
      }
    },
    {
      "cell_type": "code",
      "source": [],
      "metadata": {
        "id": "nG8FEW3Nos_c"
      },
      "execution_count": null,
      "outputs": []
    }
  ]
}