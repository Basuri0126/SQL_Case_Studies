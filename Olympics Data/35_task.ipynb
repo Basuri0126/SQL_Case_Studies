{
  "nbformat": 4,
  "nbformat_minor": 0,
  "metadata": {
    "colab": {
      "provenance": []
    },
    "kernelspec": {
      "name": "python3",
      "display_name": "Python 3"
    },
    "language_info": {
      "name": "python"
    }
  },
  "cells": [
    {
      "cell_type": "code",
      "execution_count": null,
      "metadata": {
        "id": "sZvdtc0POCch"
      },
      "outputs": [],
      "source": []
    },
    {
      "cell_type": "markdown",
      "source": [
        "# SQL SubQuery\n",
        "## How to load the dataset(s) to SQL?\n",
        "Using Python, you can load the large datasets to MySQL database very easily. For that follow the below steps.\n",
        "\n",
        "- First create a database in your local machine server.\n",
        "\n",
        "```sql\n",
        "CREATE DATABASE <database_name>\n",
        "```\n",
        "\n",
        "- Next, use Python to load the database\n",
        "\n",
        "```python\n",
        "import pandas as pd\n",
        "from sqlalchemy import create_engine\n",
        "\n",
        "df = pd.read_csv(\"file/path/to/the/database.csv\")\n",
        "\n",
        "engine = create_engine(\"mysql+pymysql://<db_username>:<db_password>@<hostname>/<database_name>\")\n",
        "df.to_sql(\"<table_name>\", con=engine)\n",
        "```\n",
        "\n",
        "## Problems 1-6\n",
        "\n",
        "For problems 1 to 6, use the Olympic dataset. You can get that from [here](https://drive.google.com/file/d/1EGIRBkbQGByJPvCqDtxtTnXv93oGunFp/view?usp=share_link).\n",
        "\n",
        "**Column description:**\n",
        "1. ID -> ID of every records to our dataset. It has integer datatype.\n",
        "2. Name -> Name of the athletes.\n",
        "3. Sex -> Gender of the athletes.\n",
        "4. Height -> Height of the athletes\n",
        "5. Weight -> Weight of the athletes\n",
        "6. NOC -> In which country, the athletes belong to. This is actually the country code.\n",
        "7. Year -> In which year, the athlete has participated\n",
        "8. Sport -> What is the sport name in which the athlete participated.\n",
        "9. Event -> Event name of the sport\n",
        "10. Medal -> Which medal the athlege got. If the athlete did not get any medal then this cell is blank.\n",
        "11. country -> The name of the country."
      ],
      "metadata": {
        "id": "NLmTBdPfOKCI"
      }
    },
    {
      "cell_type": "markdown",
      "source": [
        "### Problem 1\n",
        "\n",
        "Display the names of athletes who won a gold medal in the 2008 Olympics and whose height is greater than the average height of all athletes in the 2008 Olympics.\n",
        "\n",
        "\n",
        "### Problem 2\n",
        "\n",
        "Display the names of athletes who won a medal in the sport of basketball in the 2016 Olympics and whose weight is less than the average weight of all athletes who won a medal in the 2016 Olympics.\n",
        "\n",
        "\n",
        "\n",
        "### Problem 3\n",
        "\n",
        "Display the names of all athletes who have won a medal in the sport of swimming in both the 2008 and 2016 Olympics.\n",
        "\n",
        "\n",
        "\n",
        "### Problem 4\n",
        "\n",
        "Display the names of all countries that have won more than 50 medals in a single year.\n",
        "\n",
        "\n",
        "\n",
        "### Problem 5\n",
        "\n",
        "Display the names of all athletes who have won medals in more than one sport in the same year.\n",
        "\n",
        "\n",
        "\n",
        "### Problem 6\n",
        "\n",
        "What is the average weight difference between male and female athletes in the Olympics who have won a medal in the same event?"
      ],
      "metadata": {
        "id": "slnSOsPQOMFm"
      }
    },
    {
      "cell_type": "markdown",
      "source": [
        "## ANSWER"
      ],
      "metadata": {
        "id": "aFr6SMoAOLJ2"
      }
    },
    {
      "cell_type": "markdown",
      "source": [
        "1.\n",
        "- SELECT * FROM olympic.olympic_data\n",
        "- WHERE Year=2008 AND Medal = 'Gold'\n",
        "- AND Height > (SELECT AVG(Height) FROM olympic_data\n",
        "- WHERE Year=2008);"
      ],
      "metadata": {
        "id": "0Y6bf6bkojw3"
      }
    },
    {
      "cell_type": "markdown",
      "source": [
        "2.\n",
        "- SELECT * FROM olympic_data\n",
        "- WHERE Year=2016 AND Sport='Basketball'\n",
        "- AND Medal IS NOT NULL\n",
        "- AND Weight > (SELECT AVG(Weight) FROM olympic_data\n",
        "- WHERE Year=2016\n",
        "- AND Medal IS NOT NULL);"
      ],
      "metadata": {
        "id": "-FpXf21loj2h"
      }
    },
    {
      "cell_type": "markdown",
      "source": [
        "3.\n",
        "- SELECT Name FROM olympic_data\n",
        "- WHERE Year=2008 OR Year=2016\n",
        "- AND Sport='Swimming' AND Medal IS NOT NULL;"
      ],
      "metadata": {
        "id": "7CXfgFa8oj50"
      }
    },
    {
      "cell_type": "markdown",
      "source": [
        "4.\n",
        "- SELECT country, Year, COUNT(Medal) AS 'num_medal' FROM olympic_data\n",
        "- WHERE Medal IS NOT NULL AND country IS NOT NULL\n",
        "- GROUP BY Year, country\n",
        "- HAVING COUNT(Medal)> 50;"
      ],
      "metadata": {
        "id": "ZWnBmeWDoj8o"
      }
    },
    {
      "cell_type": "markdown",
      "source": [
        "5.\n",
        "- SELECT DISTINCT ID,Year,Sport, COUNT(Medal) FROM olympic_data m1\n",
        "- WHERE Medal IS NOT NULL\n",
        "- GROUP BY ID, Sport, year\n",
        "- HAVING COUNT(Medal)>1"
      ],
      "metadata": {
        "id": "VvlCr9EookRs"
      }
    },
    {
      "cell_type": "markdown",
      "source": [
        "6.\n",
        "- SELECT AVG(t1.Weight - t2.Weight) FROM (SELECT * FROM olympic_data\n",
        "- WHERE Medal IS NOT NULL) t1\n",
        "- JOIN\n",
        "- (SELECT * FROM olympic_data\n",
        "- WHERE Medal IS NOT NULL) t2\n",
        "- ON t1.Event = t2.Event AND\n",
        "- t1.Sex != t2.Sex"
      ],
      "metadata": {
        "id": "FaDoTy-ruaRy"
      }
    },
    {
      "cell_type": "code",
      "source": [],
      "metadata": {
        "id": "P49CDoNYuacy"
      },
      "execution_count": null,
      "outputs": []
    },
    {
      "cell_type": "markdown",
      "source": [
        "## Problem 7 - 10\n",
        "\n",
        "Use the health insurance dataset. You can get the dataset as well as the description of the dataset [here](https://www.kaggle.com/datasets/thedevastator/insurance-claim-analysis-demographic-and-health)."
      ],
      "metadata": {
        "id": "9RFThGnIOYec"
      }
    },
    {
      "cell_type": "markdown",
      "source": [
        "### Problem 7\n",
        "\n",
        "How many patients have claimed more than the average claim amount for patients who are smokers and have at least one child, and belong to the southeast region?\n",
        "\n",
        "\n",
        "### Problem 8\n",
        "\n",
        "How many patients have claimed more than the average claim amount for patients who are not smokers and have a BMI greater than the average BMI for patients who have at least one child?\n",
        "\n",
        "\n",
        "\n",
        "### Problem 9\n",
        "\n",
        "How many patients have claimed more than the average claim amount for patients who have a BMI greater than the average BMI for patients who are diabetic, have at least one child, and are from the southwest region?\n",
        "\n",
        "\n",
        "### Problem 10:\n",
        "\n",
        "What is the difference in the average claim amount between patients who are smokers and patients who are non-smokers, and have the same BMI and number of children?"
      ],
      "metadata": {
        "id": "WM6f8f9eOl_t"
      }
    },
    {
      "cell_type": "markdown",
      "source": [
        "7.\n",
        "- SELECT COUNT(*) FROM insurance_data\n",
        "- WHERE claim > (SELECT AVG(claim) FROM insurance.insurance_data\n",
        "- WHERE smoker='Yes' AND children>=1\n",
        "- AND region='southeast')\n",
        "- AND smoker='Yes' AND children=1\n",
        "- AND region='southeast'"
      ],
      "metadata": {
        "id": "8EqbkrNZVuvw"
      }
    },
    {
      "cell_type": "markdown",
      "source": [
        "8.\n",
        "- SELECT COUNT(*) FROM insurance_data\n",
        "- WHERE claim > (SELECT AVG(claim) FROM insurance_data\n",
        "- WHERE smoker='NO' AND\n",
        "- bmi > (SELECT AVG(bmi) FROM insurance_data\n",
        "- WHERE children >= 1));"
      ],
      "metadata": {
        "id": "qUkC0pCm6zZ6"
      }
    },
    {
      "cell_type": "markdown",
      "source": [
        "9.\n",
        "- SELECT COUNT(*) FROM insurance_data\n",
        "- WHERE claim > (SELECT AVG(claim) FROM insurance_data\n",
        "- WHERE bmi>(SELECT AVG(bmi) FROM insurance_data\n",
        "- WHERE diabetic='Yes' AND children >= 1\n",
        "- AND region='southwest'));"
      ],
      "metadata": {
        "id": "Q6HlEYFV6zmW"
      }
    },
    {
      "cell_type": "markdown",
      "source": [
        "10.\n",
        "- SELECT AVG(t1.claim- t2.claim)\n",
        "- FROM insurance_data t1\n",
        "- JOIN insurance_data t2\n",
        "- ON t1.bmi = t2.bmi AND\n",
        "- t1.children = t2.children\n",
        "- AND t1.PatientID != t2.PatientID\n",
        "- AND t1.smoker != t2.smoker\n",
        "- GROUP BY t1.smoker"
      ],
      "metadata": {
        "id": "EeySRKZfG8LU"
      }
    }
  ]
}