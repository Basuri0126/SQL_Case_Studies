{
  "nbformat": 4,
  "nbformat_minor": 0,
  "metadata": {
    "colab": {
      "provenance": []
    },
    "kernelspec": {
      "name": "python3",
      "display_name": "Python 3"
    },
    "language_info": {
      "name": "python"
    }
  },
  "cells": [
    {
      "cell_type": "markdown",
      "source": [
        "# Task for SQL DML session\n",
        "\n",
        "Load this dataset in your database and perform below given tasks.\n",
        "\n",
        "DataSet - https://docs.google.com/spreadsheets/d/e/2PACX-1vRa1wWwXmzxEvqITxj4OQTeLywlGTTsOTbhSRqKj2lPuGefjlci-DQhgLBPpgWXe8AAUu2WUBqY59X1/pub?gid=1030172542&single=true&output=csv\n",
        "\n",
        "Look for data description\n",
        "\n",
        "Kaggle - https://www.kaggle.com/datasets/thedevastator/insurance-claim-analysis-demographic-and-health?select=insurance_data.csv"
      ],
      "metadata": {
        "id": "O-kYKh3Z3HoZ"
      }
    },
    {
      "cell_type": "markdown",
      "source": [
        "### Perform the following queries\n",
        "\n",
        "1. Show records of 'male' patient from 'southwest' region.\n",
        "2. Show all records having bmi in range 30 to 45 both inclusive.\n",
        "3. Show minimum and maximum bloodpressure of diabetic patient who smokes. Make column names as MinBP and MaxBP respectively.\n",
        "4. Find no of unique patients who are not from southwest region.\n",
        "5. Total claim amount from male smoker.\n",
        "6. Select all records of south region.\n",
        "7. No of patient having normal blood pressure. Normal range[90-120]\n",
        "8. No of pateint belo 17 years of age having normal blood pressure as per below formula -\n",
        "    - BP normal range = 80+(age in years × 2) to 100 + (age in years × 2)\n",
        "\n",
        "    - Note: Formula taken just for practice, don't take in real sense.\n",
        "9. What is the average claim amount for non-smoking female patients who are diabetic?\n",
        "10. Write a SQL query to update the claim amount for the patient with PatientID = 1234 to 5000.\n",
        "11. Write a SQL query to delete all records for patients who are smokers and have no children.\n"
      ],
      "metadata": {
        "id": "HgeiRIpI3MjR"
      }
    },
    {
      "cell_type": "code",
      "source": [],
      "metadata": {
        "id": "lJCTiUP6pWDK"
      },
      "execution_count": null,
      "outputs": []
    },
    {
      "cell_type": "markdown",
      "source": [
        "## ANSWER"
      ],
      "metadata": {
        "id": "koaM7unppWMa"
      }
    },
    {
      "cell_type": "markdown",
      "source": [
        "1. SELECT * FROM insurance.insurance_data\n",
        "WHERE gender = 'male' and region = 'southwest'"
      ],
      "metadata": {
        "id": "56rYZ7bf3IJh"
      }
    },
    {
      "cell_type": "markdown",
      "source": [
        "2. SELECT * FROM insurance.insurance_data\n",
        "WHERE bmi BETWEEN 30 AND 45"
      ],
      "metadata": {
        "id": "AgXl6QJhpVQB"
      }
    },
    {
      "cell_type": "markdown",
      "source": [
        "3. SELECT MAX(bloodpressure) AS 'MaxBP', MIN(bloodpressure) AS 'MinBP' FROM insurance.insurance_data\n",
        "WHERE smoker = 'Yes' AND diabetic = 'YES'"
      ],
      "metadata": {
        "id": "zcGSZrU5pqGJ"
      }
    },
    {
      "cell_type": "markdown",
      "source": [
        "4. SELECT COUNT(DISTINCT(PatientID)) AS unique_patients_not_southwest FROM insurance.insurance_data\n",
        "WHERE region <> 'southwest'"
      ],
      "metadata": {
        "id": "tIYppFXrqF60"
      }
    },
    {
      "cell_type": "markdown",
      "source": [
        "5. SELECT SUM(claim) FROM insurance.insurance_data\n",
        "WHERE gender = 'male'"
      ],
      "metadata": {
        "id": "FZxGRmAJrlL1"
      }
    },
    {
      "cell_type": "markdown",
      "source": [
        "6. SELECT * FROM insurance.insurance_data\n",
        "WHERE region = 'southwest' OR region = 'southeast'"
      ],
      "metadata": {
        "id": "lR1ssfsXsPJM"
      }
    },
    {
      "cell_type": "markdown",
      "source": [
        "7. SELECT COUNT(*) FROM insurance.insurance_data WHERE bloodpressure BETWEEN 90 and 120"
      ],
      "metadata": {
        "id": "pnztyV9PsqMS"
      }
    },
    {
      "cell_type": "markdown",
      "source": [
        "8. SELECT COUNT(*) FROM insurance.insurance_data\n",
        "WHERE age <= 17 AND bloodpressure\n",
        "BETWEEN 80+(age * 2) AND 100 + (age * 2)"
      ],
      "metadata": {
        "id": "5SjyzdQbL65X"
      }
    },
    {
      "cell_type": "markdown",
      "source": [
        "9. SELECT AVG(claim) FROM insurance.insurance_data WHERE gender = 'female' AND smoker = 'No' AND diabetic = 'Yes'"
      ],
      "metadata": {
        "id": "YJjQGlqIObOE"
      }
    },
    {
      "cell_type": "markdown",
      "source": [
        "10. UPDATE insurance.insurance_data\n",
        "SET claim = 5000\n",
        "WHERE PatientID = 1234"
      ],
      "metadata": {
        "id": "AhQ27SbePIwZ"
      }
    },
    {
      "cell_type": "markdown",
      "source": [
        "11. DELETE FROM insurance.insurance_data\n",
        "WHERE children = 0 AND smoker = 'Yes'"
      ],
      "metadata": {
        "id": "1I2qS0KuR0ZD"
      }
    },
    {
      "cell_type": "code",
      "source": [],
      "metadata": {
        "id": "9TMfLKlOSlig"
      },
      "execution_count": null,
      "outputs": []
    }
  ]
}