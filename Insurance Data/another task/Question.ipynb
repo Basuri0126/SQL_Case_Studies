{
  "nbformat": 4,
  "nbformat_minor": 0,
  "metadata": {
    "colab": {
      "provenance": []
    },
    "kernelspec": {
      "name": "python3",
      "display_name": "Python 3"
    },
    "language_info": {
      "name": "python"
    }
  },
  "cells": [
    {
      "cell_type": "code",
      "execution_count": null,
      "metadata": {
        "id": "Lx3OWsZxGHaH"
      },
      "outputs": [],
      "source": []
    },
    {
      "cell_type": "markdown",
      "source": [
        "**Note: Try to avoid *GROUP BY* clause to solve the problems**\n",
        "\n",
        "For the problems use the *Health Insurance Claim* dataset. You can get the details as well as the dataset from [here](https://www.kaggle.com/datasets/thedevastator/insurance-claim-analysis-demographic-and-health).\n",
        "\n",
        "### **Problem 1:** What are the top 5 patients who claimed the highest insurance amounts?\n",
        "\n",
        "### **Problem 2:** What is the average insurance claimed by patients based on the number of children they have?\n",
        "\n",
        "### **Problem 3:** What is the highest and lowest claimed amount by patients in each region?\n",
        "\n",
        "### **Problem 4:** What is the percentage of smokers in each age group?\n",
        "\n",
        "### **Problem 5:** What is the difference between the claimed amount of each patient and the first claimed amount of that patient?\n",
        "\n",
        "### **Problem 6:** For each patient, calculate the difference between their claimed amount and the average claimed amount of patients with the same number of children.\n",
        "\n",
        "### **Problem 7:** Show the patient with the highest BMI in each region and their respective rank.\n",
        "\n",
        "### **Problem 8:** Calculate the difference between the claimed amount of each patient and the claimed amount of the patient who has the highest BMI in their region.\n",
        "\n",
        "### **Problem 9:** For each patient, calculate the difference in claim amount between the patient and the patient with the highest claim amount among patients with the same bmi and smoker status, within the same region. Return the result in descending order difference.\n",
        "\n",
        "### **Problem 10:** For each patient, find the maximum BMI value among their next three records (ordered by age).\n",
        "\n",
        "### **Problem 11:** For each patient, find the rolling average of the last 2 claims.\n",
        "\n",
        "### **Problem 12:** Find the first claimed insurance value for male and female patients, within each region order the data by patient age in ascending order, and only include patients who are non-diabetic and have a bmi value between 25 and 30."
      ],
      "metadata": {
        "id": "rp-6tPAYGMYz"
      }
    },
    {
      "cell_type": "code",
      "source": [],
      "metadata": {
        "id": "OHrwHkGWGNB_"
      },
      "execution_count": null,
      "outputs": []
    },
    {
      "cell_type": "markdown",
      "source": [],
      "metadata": {
        "id": "ykcQQHQlGvFs"
      }
    },
    {
      "cell_type": "markdown",
      "source": [],
      "metadata": {
        "id": "WgSE75JGGy2Q"
      }
    },
    {
      "cell_type": "markdown",
      "source": [],
      "metadata": {
        "id": "eZCGiXEFG3pc"
      }
    },
    {
      "cell_type": "code",
      "source": [],
      "metadata": {
        "id": "F3smsFiqGvnw"
      },
      "execution_count": null,
      "outputs": []
    }
  ]
}